{
  "cells": [
    {
      "cell_type": "markdown",
      "metadata": {
        "id": "2JvD-wdxGphd"
      },
      "source": [
        "Comparing SVM , KNN and ELM for better accuracy."
      ]
    },
    {
      "cell_type": "code",
      "execution_count": 1,
      "metadata": {
        "id": "i7gFwNBgFTl0"
      },
      "outputs": [],
      "source": [
        "import numpy as np\n",
        "import pandas as pd\n",
        "import matplotlib.pyplot as plt\n"
      ]
    },
    {
      "cell_type": "code",
      "execution_count": 3,
      "metadata": {
        "id": "MHILRK4cJm43"
      },
      "outputs": [],
      "source": [
        "df = pd.read_csv(\"BATADAL_dataset04.csv\")"
      ]
    },
    {
      "cell_type": "code",
      "execution_count": 4,
      "metadata": {
        "colab": {
          "base_uri": "https://localhost:8080/"
        },
        "id": "MEM7uPeKJtB5",
        "outputId": "02a536c8-0986-4c25-96a7-ca852e504a85"
      },
      "outputs": [
        {
          "data": {
            "text/plain": [
              "Index(['DATETIME', ' L_T1', ' L_T2', ' L_T3', ' L_T4', ' L_T5', ' L_T6',\n",
              "       ' L_T7', ' F_PU1', ' S_PU1', ' F_PU2', ' S_PU2', ' F_PU3', ' S_PU3',\n",
              "       ' F_PU4', ' S_PU4', ' F_PU5', ' S_PU5', ' F_PU6', ' S_PU6', ' F_PU7',\n",
              "       ' S_PU7', ' F_PU8', ' S_PU8', ' F_PU9', ' S_PU9', ' F_PU10', ' S_PU10',\n",
              "       ' F_PU11', ' S_PU11', ' F_V2', ' S_V2', ' P_J280', ' P_J269', ' P_J300',\n",
              "       ' P_J256', ' P_J289', ' P_J415', ' P_J302', ' P_J306', ' P_J307',\n",
              "       ' P_J317', ' P_J14', ' P_J422', ' ATT_FLAG'],\n",
              "      dtype='object')"
            ]
          },
          "execution_count": 4,
          "metadata": {},
          "output_type": "execute_result"
        }
      ],
      "source": [
        "df.columns"
      ]
    },
    {
      "cell_type": "code",
      "execution_count": 5,
      "metadata": {
        "colab": {
          "base_uri": "https://localhost:8080/",
          "height": 424
        },
        "id": "7HQAgufJJugG",
        "outputId": "79e8348f-c1dd-4264-b18c-7ca21bcfca9c"
      },
      "outputs": [
        {
          "data": {
            "text/html": [
              "<div>\n",
              "<style scoped>\n",
              "    .dataframe tbody tr th:only-of-type {\n",
              "        vertical-align: middle;\n",
              "    }\n",
              "\n",
              "    .dataframe tbody tr th {\n",
              "        vertical-align: top;\n",
              "    }\n",
              "\n",
              "    .dataframe thead th {\n",
              "        text-align: right;\n",
              "    }\n",
              "</style>\n",
              "<table border=\"1\" class=\"dataframe\">\n",
              "  <thead>\n",
              "    <tr style=\"text-align: right;\">\n",
              "      <th></th>\n",
              "      <th>DATETIME</th>\n",
              "      <th>L_T1</th>\n",
              "      <th>L_T2</th>\n",
              "      <th>L_T3</th>\n",
              "      <th>L_T4</th>\n",
              "      <th>L_T5</th>\n",
              "      <th>L_T6</th>\n",
              "      <th>L_T7</th>\n",
              "      <th>F_PU1</th>\n",
              "      <th>S_PU1</th>\n",
              "      <th>...</th>\n",
              "      <th>P_J256</th>\n",
              "      <th>P_J289</th>\n",
              "      <th>P_J415</th>\n",
              "      <th>P_J302</th>\n",
              "      <th>P_J306</th>\n",
              "      <th>P_J307</th>\n",
              "      <th>P_J317</th>\n",
              "      <th>P_J14</th>\n",
              "      <th>P_J422</th>\n",
              "      <th>ATT_FLAG</th>\n",
              "    </tr>\n",
              "  </thead>\n",
              "  <tbody>\n",
              "    <tr>\n",
              "      <th>0</th>\n",
              "      <td>04/07/16 00</td>\n",
              "      <td>2.44</td>\n",
              "      <td>5.24</td>\n",
              "      <td>3.19</td>\n",
              "      <td>4.10</td>\n",
              "      <td>2.86</td>\n",
              "      <td>5.50</td>\n",
              "      <td>4.39</td>\n",
              "      <td>93.63</td>\n",
              "      <td>1.0</td>\n",
              "      <td>...</td>\n",
              "      <td>70.00</td>\n",
              "      <td>28.22</td>\n",
              "      <td>85.87</td>\n",
              "      <td>21.69</td>\n",
              "      <td>82.72</td>\n",
              "      <td>21.58</td>\n",
              "      <td>71.99</td>\n",
              "      <td>39.33</td>\n",
              "      <td>29.64</td>\n",
              "      <td>-999</td>\n",
              "    </tr>\n",
              "    <tr>\n",
              "      <th>1</th>\n",
              "      <td>04/07/16 01</td>\n",
              "      <td>2.66</td>\n",
              "      <td>4.53</td>\n",
              "      <td>3.20</td>\n",
              "      <td>4.18</td>\n",
              "      <td>3.29</td>\n",
              "      <td>5.44</td>\n",
              "      <td>4.53</td>\n",
              "      <td>89.41</td>\n",
              "      <td>1.0</td>\n",
              "      <td>...</td>\n",
              "      <td>87.73</td>\n",
              "      <td>24.45</td>\n",
              "      <td>84.87</td>\n",
              "      <td>29.81</td>\n",
              "      <td>86.62</td>\n",
              "      <td>29.81</td>\n",
              "      <td>59.76</td>\n",
              "      <td>42.17</td>\n",
              "      <td>26.15</td>\n",
              "      <td>-999</td>\n",
              "    </tr>\n",
              "    <tr>\n",
              "      <th>2</th>\n",
              "      <td>04/07/16 02</td>\n",
              "      <td>3.11</td>\n",
              "      <td>3.66</td>\n",
              "      <td>3.66</td>\n",
              "      <td>4.21</td>\n",
              "      <td>3.87</td>\n",
              "      <td>5.15</td>\n",
              "      <td>3.22</td>\n",
              "      <td>89.88</td>\n",
              "      <td>1.0</td>\n",
              "      <td>...</td>\n",
              "      <td>89.29</td>\n",
              "      <td>23.90</td>\n",
              "      <td>87.11</td>\n",
              "      <td>29.85</td>\n",
              "      <td>87.64</td>\n",
              "      <td>29.85</td>\n",
              "      <td>58.50</td>\n",
              "      <td>42.00</td>\n",
              "      <td>25.56</td>\n",
              "      <td>-999</td>\n",
              "    </tr>\n",
              "    <tr>\n",
              "      <th>3</th>\n",
              "      <td>04/07/16 03</td>\n",
              "      <td>3.62</td>\n",
              "      <td>3.04</td>\n",
              "      <td>4.17</td>\n",
              "      <td>4.04</td>\n",
              "      <td>3.56</td>\n",
              "      <td>4.98</td>\n",
              "      <td>2.40</td>\n",
              "      <td>88.10</td>\n",
              "      <td>1.0</td>\n",
              "      <td>...</td>\n",
              "      <td>91.98</td>\n",
              "      <td>27.10</td>\n",
              "      <td>68.75</td>\n",
              "      <td>31.60</td>\n",
              "      <td>64.25</td>\n",
              "      <td>31.47</td>\n",
              "      <td>72.30</td>\n",
              "      <td>43.24</td>\n",
              "      <td>28.38</td>\n",
              "      <td>-999</td>\n",
              "    </tr>\n",
              "    <tr>\n",
              "      <th>4</th>\n",
              "      <td>04/07/16 04</td>\n",
              "      <td>4.08</td>\n",
              "      <td>2.68</td>\n",
              "      <td>4.73</td>\n",
              "      <td>3.20</td>\n",
              "      <td>3.11</td>\n",
              "      <td>5.39</td>\n",
              "      <td>3.46</td>\n",
              "      <td>87.01</td>\n",
              "      <td>1.0</td>\n",
              "      <td>...</td>\n",
              "      <td>92.11</td>\n",
              "      <td>26.76</td>\n",
              "      <td>68.74</td>\n",
              "      <td>32.30</td>\n",
              "      <td>64.23</td>\n",
              "      <td>32.17</td>\n",
              "      <td>72.53</td>\n",
              "      <td>44.00</td>\n",
              "      <td>28.04</td>\n",
              "      <td>-999</td>\n",
              "    </tr>\n",
              "    <tr>\n",
              "      <th>...</th>\n",
              "      <td>...</td>\n",
              "      <td>...</td>\n",
              "      <td>...</td>\n",
              "      <td>...</td>\n",
              "      <td>...</td>\n",
              "      <td>...</td>\n",
              "      <td>...</td>\n",
              "      <td>...</td>\n",
              "      <td>...</td>\n",
              "      <td>...</td>\n",
              "      <td>...</td>\n",
              "      <td>...</td>\n",
              "      <td>...</td>\n",
              "      <td>...</td>\n",
              "      <td>...</td>\n",
              "      <td>...</td>\n",
              "      <td>...</td>\n",
              "      <td>...</td>\n",
              "      <td>...</td>\n",
              "      <td>...</td>\n",
              "      <td>...</td>\n",
              "    </tr>\n",
              "    <tr>\n",
              "      <th>4172</th>\n",
              "      <td>24/12/16 20</td>\n",
              "      <td>2.65</td>\n",
              "      <td>2.37</td>\n",
              "      <td>3.85</td>\n",
              "      <td>3.04</td>\n",
              "      <td>3.82</td>\n",
              "      <td>4.94</td>\n",
              "      <td>2.19</td>\n",
              "      <td>120.08</td>\n",
              "      <td>1.0</td>\n",
              "      <td>...</td>\n",
              "      <td>70.03</td>\n",
              "      <td>27.38</td>\n",
              "      <td>84.14</td>\n",
              "      <td>18.45</td>\n",
              "      <td>81.67</td>\n",
              "      <td>18.34</td>\n",
              "      <td>66.04</td>\n",
              "      <td>29.88</td>\n",
              "      <td>28.98</td>\n",
              "      <td>-999</td>\n",
              "    </tr>\n",
              "    <tr>\n",
              "      <th>4173</th>\n",
              "      <td>24/12/16 21</td>\n",
              "      <td>2.24</td>\n",
              "      <td>2.56</td>\n",
              "      <td>3.42</td>\n",
              "      <td>2.92</td>\n",
              "      <td>3.69</td>\n",
              "      <td>5.02</td>\n",
              "      <td>1.97</td>\n",
              "      <td>119.12</td>\n",
              "      <td>1.0</td>\n",
              "      <td>...</td>\n",
              "      <td>68.60</td>\n",
              "      <td>27.66</td>\n",
              "      <td>83.46</td>\n",
              "      <td>25.40</td>\n",
              "      <td>60.85</td>\n",
              "      <td>25.28</td>\n",
              "      <td>66.89</td>\n",
              "      <td>30.19</td>\n",
              "      <td>29.29</td>\n",
              "      <td>-999</td>\n",
              "    </tr>\n",
              "    <tr>\n",
              "      <th>4174</th>\n",
              "      <td>24/12/16 22</td>\n",
              "      <td>1.91</td>\n",
              "      <td>2.76</td>\n",
              "      <td>2.95</td>\n",
              "      <td>2.49</td>\n",
              "      <td>2.70</td>\n",
              "      <td>5.14</td>\n",
              "      <td>1.87</td>\n",
              "      <td>120.71</td>\n",
              "      <td>1.0</td>\n",
              "      <td>...</td>\n",
              "      <td>85.63</td>\n",
              "      <td>26.84</td>\n",
              "      <td>82.82</td>\n",
              "      <td>24.46</td>\n",
              "      <td>59.56</td>\n",
              "      <td>24.34</td>\n",
              "      <td>66.08</td>\n",
              "      <td>29.68</td>\n",
              "      <td>28.78</td>\n",
              "      <td>-999</td>\n",
              "    </tr>\n",
              "    <tr>\n",
              "      <th>4175</th>\n",
              "      <td>24/12/16 23</td>\n",
              "      <td>1.52</td>\n",
              "      <td>2.52</td>\n",
              "      <td>3.33</td>\n",
              "      <td>2.03</td>\n",
              "      <td>1.69</td>\n",
              "      <td>5.10</td>\n",
              "      <td>1.39</td>\n",
              "      <td>120.02</td>\n",
              "      <td>1.0</td>\n",
              "      <td>...</td>\n",
              "      <td>86.15</td>\n",
              "      <td>25.78</td>\n",
              "      <td>103.63</td>\n",
              "      <td>24.77</td>\n",
              "      <td>59.01</td>\n",
              "      <td>24.65</td>\n",
              "      <td>66.42</td>\n",
              "      <td>28.98</td>\n",
              "      <td>28.08</td>\n",
              "      <td>-999</td>\n",
              "    </tr>\n",
              "    <tr>\n",
              "      <th>4176</th>\n",
              "      <td>25/12/16 00</td>\n",
              "      <td>1.10</td>\n",
              "      <td>2.12</td>\n",
              "      <td>3.73</td>\n",
              "      <td>2.73</td>\n",
              "      <td>1.58</td>\n",
              "      <td>5.13</td>\n",
              "      <td>1.19</td>\n",
              "      <td>120.33</td>\n",
              "      <td>1.0</td>\n",
              "      <td>...</td>\n",
              "      <td>89.08</td>\n",
              "      <td>25.64</td>\n",
              "      <td>105.91</td>\n",
              "      <td>18.16</td>\n",
              "      <td>80.65</td>\n",
              "      <td>18.06</td>\n",
              "      <td>67.32</td>\n",
              "      <td>28.75</td>\n",
              "      <td>27.85</td>\n",
              "      <td>-999</td>\n",
              "    </tr>\n",
              "  </tbody>\n",
              "</table>\n",
              "<p>4177 rows × 45 columns</p>\n",
              "</div>"
            ],
            "text/plain": [
              "         DATETIME   L_T1   L_T2   L_T3   L_T4   L_T5   L_T6   L_T7   F_PU1  \\\n",
              "0     04/07/16 00   2.44   5.24   3.19   4.10   2.86   5.50   4.39   93.63   \n",
              "1     04/07/16 01   2.66   4.53   3.20   4.18   3.29   5.44   4.53   89.41   \n",
              "2     04/07/16 02   3.11   3.66   3.66   4.21   3.87   5.15   3.22   89.88   \n",
              "3     04/07/16 03   3.62   3.04   4.17   4.04   3.56   4.98   2.40   88.10   \n",
              "4     04/07/16 04   4.08   2.68   4.73   3.20   3.11   5.39   3.46   87.01   \n",
              "...           ...    ...    ...    ...    ...    ...    ...    ...     ...   \n",
              "4172  24/12/16 20   2.65   2.37   3.85   3.04   3.82   4.94   2.19  120.08   \n",
              "4173  24/12/16 21   2.24   2.56   3.42   2.92   3.69   5.02   1.97  119.12   \n",
              "4174  24/12/16 22   1.91   2.76   2.95   2.49   2.70   5.14   1.87  120.71   \n",
              "4175  24/12/16 23   1.52   2.52   3.33   2.03   1.69   5.10   1.39  120.02   \n",
              "4176  25/12/16 00   1.10   2.12   3.73   2.73   1.58   5.13   1.19  120.33   \n",
              "\n",
              "       S_PU1  ...   P_J256   P_J289   P_J415   P_J302   P_J306   P_J307  \\\n",
              "0        1.0  ...    70.00    28.22    85.87    21.69    82.72    21.58   \n",
              "1        1.0  ...    87.73    24.45    84.87    29.81    86.62    29.81   \n",
              "2        1.0  ...    89.29    23.90    87.11    29.85    87.64    29.85   \n",
              "3        1.0  ...    91.98    27.10    68.75    31.60    64.25    31.47   \n",
              "4        1.0  ...    92.11    26.76    68.74    32.30    64.23    32.17   \n",
              "...      ...  ...      ...      ...      ...      ...      ...      ...   \n",
              "4172     1.0  ...    70.03    27.38    84.14    18.45    81.67    18.34   \n",
              "4173     1.0  ...    68.60    27.66    83.46    25.40    60.85    25.28   \n",
              "4174     1.0  ...    85.63    26.84    82.82    24.46    59.56    24.34   \n",
              "4175     1.0  ...    86.15    25.78   103.63    24.77    59.01    24.65   \n",
              "4176     1.0  ...    89.08    25.64   105.91    18.16    80.65    18.06   \n",
              "\n",
              "       P_J317   P_J14   P_J422   ATT_FLAG  \n",
              "0       71.99   39.33    29.64       -999  \n",
              "1       59.76   42.17    26.15       -999  \n",
              "2       58.50   42.00    25.56       -999  \n",
              "3       72.30   43.24    28.38       -999  \n",
              "4       72.53   44.00    28.04       -999  \n",
              "...       ...     ...      ...        ...  \n",
              "4172    66.04   29.88    28.98       -999  \n",
              "4173    66.89   30.19    29.29       -999  \n",
              "4174    66.08   29.68    28.78       -999  \n",
              "4175    66.42   28.98    28.08       -999  \n",
              "4176    67.32   28.75    27.85       -999  \n",
              "\n",
              "[4177 rows x 45 columns]"
            ]
          },
          "execution_count": 5,
          "metadata": {},
          "output_type": "execute_result"
        }
      ],
      "source": [
        "df"
      ]
    },
    {
      "cell_type": "code",
      "execution_count": 6,
      "metadata": {
        "colab": {
          "base_uri": "https://localhost:8080/"
        },
        "id": "k-qT2c2h7Rrf",
        "outputId": "9e6d24b2-77eb-42c8-b86e-3cfcb5ba7a24"
      },
      "outputs": [
        {
          "data": {
            "text/plain": [
              "array([-999,    1])"
            ]
          },
          "execution_count": 6,
          "metadata": {},
          "output_type": "execute_result"
        }
      ],
      "source": [
        "df[' ATT_FLAG'].unique()"
      ]
    },
    {
      "cell_type": "code",
      "execution_count": 7,
      "metadata": {
        "colab": {
          "base_uri": "https://localhost:8080/"
        },
        "id": "wQxsC6pL-Pd1",
        "outputId": "a93613d2-0c3f-4e17-e2ba-0b45b6da0b22"
      },
      "outputs": [
        {
          "data": {
            "text/plain": [
              "219"
            ]
          },
          "execution_count": 7,
          "metadata": {},
          "output_type": "execute_result"
        }
      ],
      "source": [
        "(df[' ATT_FLAG'].values==1).sum()\n"
      ]
    },
    {
      "cell_type": "code",
      "execution_count": 12,
      "metadata": {
        "id": "dS2_QdeiGlbi"
      },
      "outputs": [
        {
          "data": {
            "text/plain": [
              "Index(['DATETIME', 'L_T1', 'L_T2', 'L_T3', 'L_T4', 'L_T5', 'L_T6', 'L_T7',\n",
              "       'F_PU1', 'S_PU1', 'F_PU2', 'S_PU2', 'F_PU3', 'S_PU3', 'F_PU4', 'S_PU4',\n",
              "       'F_PU5', 'S_PU5', 'F_PU6', 'S_PU6', 'F_PU7', 'S_PU7', 'F_PU8', 'S_PU8',\n",
              "       'F_PU9', 'S_PU9', 'F_PU10', 'S_PU10', 'F_PU11', 'S_PU11', 'F_V2',\n",
              "       'S_V2', 'P_J280', 'P_J269', 'P_J300', 'P_J256', 'P_J289', 'P_J415',\n",
              "       'P_J302', 'P_J306', 'P_J307', 'P_J317', 'P_J14', 'P_J422'],\n",
              "      dtype='object')"
            ]
          },
          "execution_count": 12,
          "metadata": {},
          "output_type": "execute_result"
        }
      ],
      "source": [
        "a=pd.read_csv(\"BATADAL_test_dataset.csv\")\n",
        "a.columns"
      ]
    },
    {
      "cell_type": "code",
      "execution_count": 13,
      "metadata": {
        "id": "VlivMrVFIga3"
      },
      "outputs": [],
      "source": [
        "X = df.drop(['DATETIME',' ATT_FLAG'],axis = 1).values\n",
        "y = df[' ATT_FLAG'].values\n"
      ]
    },
    {
      "cell_type": "code",
      "execution_count": 14,
      "metadata": {
        "id": "HsCWewcVJA6M"
      },
      "outputs": [],
      "source": [
        "from sklearn.model_selection import train_test_split"
      ]
    },
    {
      "cell_type": "code",
      "execution_count": 15,
      "metadata": {
        "id": "oCQxaqkbJEhS"
      },
      "outputs": [],
      "source": [
        "X_train,X_test,y_train,y_test = train_test_split(X,y,test_size=0.4,random_state=42, stratify=y)"
      ]
    },
    {
      "cell_type": "code",
      "execution_count": 16,
      "metadata": {
        "id": "HHERDdi1JGTC"
      },
      "outputs": [],
      "source": [
        "from sklearn.neighbors import KNeighborsClassifier\n",
        "\n",
        "neighbors = np.arange(1,9)\n",
        "train_accuracy =np.empty(len(neighbors))\n",
        "test_accuracy = np.empty(len(neighbors))\n",
        "\n",
        "for i,k in enumerate(neighbors):\n",
        "    #Setup a knn classifier with k neighbors\n",
        "    knn = KNeighborsClassifier(n_neighbors=k)\n",
        "\n",
        "    #Fit the model\n",
        "    knn.fit(X_train, y_train)\n",
        "\n",
        "    #Compute accuracy on the training set\n",
        "    train_accuracy[i] = knn.score(X_train, y_train)\n",
        "\n",
        "    #Compute accuracy on the test set\n",
        "    test_accuracy[i] = knn.score(X_test, y_test)"
      ]
    },
    {
      "cell_type": "code",
      "execution_count": 17,
      "metadata": {
        "colab": {
          "base_uri": "https://localhost:8080/",
          "height": 295
        },
        "id": "ws0LAkMRJVAd",
        "outputId": "a40c69e1-eb6f-4264-e9f5-5d315b4f31eb"
      },
      "outputs": [
        {
          "data": {
            "image/png": "[encoded data removed]",
            "text/plain": [
              "<Figure size 640x480 with 1 Axes>"
            ]
          },
          "metadata": {},
          "output_type": "display_data"
        }
      ],
      "source": [
        "plt.title('k-NN Varying number of neighbors')\n",
        "plt.plot(neighbors, test_accuracy, label='Testing Accuracy')\n",
        "plt.plot(neighbors, train_accuracy, label='Training accuracy')\n",
        "plt.legend()\n",
        "plt.xlabel('Number of neighbors')\n",
        "plt.ylabel('Accuracy')\n",
        "plt.show()"
      ]
    },
    {
      "cell_type": "code",
      "execution_count": 18,
      "metadata": {
        "id": "FD00IW_9JzGx"
      },
      "outputs": [],
      "source": [
        "knn = KNeighborsClassifier(n_neighbors=4)"
      ]
    },
    {
      "cell_type": "code",
      "execution_count": 19,
      "metadata": {
        "colab": {
          "base_uri": "https://localhost:8080/"
        },
        "id": "xxMBy7efKBdu",
        "outputId": "862165dd-a3ef-4da1-9849-c13dfe06c191"
      },
      "outputs": [
        {
          "data": {
            "text/html": [
              "<style>#sk-container-id-1 {color: black;background-color: white;}#sk-container-id-1 pre{padding: 0;}#sk-container-id-1 div.sk-toggleable {background-color: white;}#sk-container-id-1 label.sk-toggleable__label {cursor: pointer;display: block;width: 100%;margin-bottom: 0;padding: 0.3em;box-sizing: border-box;text-align: center;}#sk-container-id-1 label.sk-toggleable__label-arrow:before {content: \"▸\";float: left;margin-right: 0.25em;color: #696969;}#sk-container-id-1 label.sk-toggleable__label-arrow:hover:before {color: black;}#sk-container-id-1 div.sk-estimator:hover label.sk-toggleable__label-arrow:before {color: black;}#sk-container-id-1 div.sk-toggleable__content {max-height: 0;max-width: 0;overflow: hidden;text-align: left;background-color: #f0f8ff;}#sk-container-id-1 div.sk-toggleable__content pre {margin: 0.2em;color: black;border-radius: 0.25em;background-color: #f0f8ff;}#sk-container-id-1 input.sk-toggleable__control:checked~div.sk-toggleable__content {max-height: 200px;max-width: 100%;overflow: auto;}#sk-container-id-1 input.sk-toggleable__control:checked~label.sk-toggleable__label-arrow:before {content: \"▾\";}#sk-container-id-1 div.sk-estimator input.sk-toggleable__control:checked~label.sk-toggleable__label {background-color: #d4ebff;}#sk-container-id-1 div.sk-label input.sk-toggleable__control:checked~label.sk-toggleable__label {background-color: #d4ebff;}#sk-container-id-1 input.sk-hidden--visually {border: 0;clip: rect(1px 1px 1px 1px);clip: rect(1px, 1px, 1px, 1px);height: 1px;margin: -1px;overflow: hidden;padding: 0;position: absolute;width: 1px;}#sk-container-id-1 div.sk-estimator {font-family: monospace;background-color: #f0f8ff;border: 1px dotted black;border-radius: 0.25em;box-sizing: border-box;margin-bottom: 0.5em;}#sk-container-id-1 div.sk-estimator:hover {background-color: #d4ebff;}#sk-container-id-1 div.sk-parallel-item::after {content: \"\";width: 100%;border-bottom: 1px solid gray;flex-grow: 1;}#sk-container-id-1 div.sk-label:hover label.sk-toggleable__label {background-color: #d4ebff;}#sk-container-id-1 div.sk-serial::before {content: \"\";position: absolute;border-left: 1px solid gray;box-sizing: border-box;top: 0;bottom: 0;left: 50%;z-index: 0;}#sk-container-id-1 div.sk-serial {display: flex;flex-direction: column;align-items: center;background-color: white;padding-right: 0.2em;padding-left: 0.2em;position: relative;}#sk-container-id-1 div.sk-item {position: relative;z-index: 1;}#sk-container-id-1 div.sk-parallel {display: flex;align-items: stretch;justify-content: center;background-color: white;position: relative;}#sk-container-id-1 div.sk-item::before, #sk-container-id-1 div.sk-parallel-item::before {content: \"\";position: absolute;border-left: 1px solid gray;box-sizing: border-box;top: 0;bottom: 0;left: 50%;z-index: -1;}#sk-container-id-1 div.sk-parallel-item {display: flex;flex-direction: column;z-index: 1;position: relative;background-color: white;}#sk-container-id-1 div.sk-parallel-item:first-child::after {align-self: flex-end;width: 50%;}#sk-container-id-1 div.sk-parallel-item:last-child::after {align-self: flex-start;width: 50%;}#sk-container-id-1 div.sk-parallel-item:only-child::after {width: 0;}#sk-container-id-1 div.sk-dashed-wrapped {border: 1px dashed gray;margin: 0 0.4em 0.5em 0.4em;box-sizing: border-box;padding-bottom: 0.4em;background-color: white;}#sk-container-id-1 div.sk-label label {font-family: monospace;font-weight: bold;display: inline-block;line-height: 1.2em;}#sk-container-id-1 div.sk-label-container {text-align: center;}#sk-container-id-1 div.sk-container {/* jupyter's `normalize.less` sets `[hidden] { display: none; }` but bootstrap.min.css set `[hidden] { display: none !important; }` so we also need the `!important` here to be able to override the default hidden behavior on the sphinx rendered scikit-learn.org. See: https://github.com/scikit-learn/scikit-learn/issues/21755 */display: inline-block !important;position: relative;}#sk-container-id-1 div.sk-text-repr-fallback {display: none;}</style><div id=\"sk-container-id-1\" class=\"sk-top-container\"><div class=\"sk-text-repr-fallback\"><pre>KNeighborsClassifier(n_neighbors=4)</pre><b>In a Jupyter environment, please rerun this cell to show the HTML representation or trust the notebook. <br />On GitHub, the HTML representation is unable to render, please try loading this page with nbviewer.org.</b></div><div class=\"sk-container\" hidden><div class=\"sk-item\"><div class=\"sk-estimator sk-toggleable\"><input class=\"sk-toggleable__control sk-hidden--visually\" id=\"sk-estimator-id-1\" type=\"checkbox\" checked><label for=\"sk-estimator-id-1\" class=\"sk-toggleable__label sk-toggleable__label-arrow\">KNeighborsClassifier</label><div class=\"sk-toggleable__content\"><pre>KNeighborsClassifier(n_neighbors=4)</pre></div></div></div></div></div>"
            ],
            "text/plain": [
              "KNeighborsClassifier(n_neighbors=4)"
            ]
          },
          "execution_count": 19,
          "metadata": {},
          "output_type": "execute_result"
        }
      ],
      "source": [
        "knn.fit(X_train,y_train)"
      ]
    },
    {
      "cell_type": "code",
      "execution_count": 20,
      "metadata": {
        "colab": {
          "base_uri": "https://localhost:8080/"
        },
        "id": "2n8SpPmcKDDN",
        "outputId": "84b34fc8-9c8e-429b-f05b-8473a7b49e2d"
      },
      "outputs": [
        {
          "data": {
            "text/plain": [
              "0.9575104727707959"
            ]
          },
          "execution_count": 20,
          "metadata": {},
          "output_type": "execute_result"
        }
      ],
      "source": [
        "knn.score(X_test,y_test)"
      ]
    }
  ],
  "metadata": {
    "colab": {
      "provenance": []
    },
    "kernelspec": {
      "display_name": "Python 3",
      "name": "python3"
    },
    "language_info": {
      "codemirror_mode": {
        "name": "ipython",
        "version": 3
      },
      "file_extension": ".py",
      "mimetype": "text/x-python",
      "name": "python",
      "nbconvert_exporter": "python",
      "pygments_lexer": "ipython3",
      "version": "3.8.16"
    }
  },
  "nbformat": 4,
  "nbformat_minor": 0
}
